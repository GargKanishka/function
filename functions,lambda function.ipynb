{
 "cells": [
  {
   "cell_type": "markdown",
   "id": "a79decaf",
   "metadata": {},
   "source": [
    "### Python functions:\n",
    "## function ----> executing the logic many times but writing the logic only one tym.\n",
    "##syntax for python functions:\n",
    " - refer's with keyword dev\n",
    " - inside write the logic\n",
    " - call from anywhere\n",
    " ## syntax for function: def <function_name>(parameters or attributes)"
   ]
  },
  {
   "cell_type": "code",
   "execution_count": 1,
   "id": "b6af3257",
   "metadata": {},
   "outputs": [
    {
     "name": "stdout",
     "output_type": "stream",
     "text": [
      "30\n"
     ]
    }
   ],
   "source": [
    "# adding two numbers without function:\n",
    "a =10\n",
    "b =20\n",
    "print(a+b)"
   ]
  },
  {
   "cell_type": "code",
   "execution_count": 2,
   "id": "c23ab280",
   "metadata": {},
   "outputs": [],
   "source": [
    "# to make it easy and code reusability,\n",
    "# reusability means use the code many tym but written only one tym."
   ]
  },
  {
   "cell_type": "code",
   "execution_count": null,
   "id": "cb0ce13e",
   "metadata": {},
   "outputs": [],
   "source": [
    "# create a function and write the logic only one tym but uses many tyms.\n",
    "# addition two numbers using function:\n"
   ]
  },
  {
   "cell_type": "code",
   "execution_count": 5,
   "id": "0330c4e9",
   "metadata": {},
   "outputs": [],
   "source": [
    "def kanishka():\n",
    "    print('i m living in ghaziyabad')"
   ]
  },
  {
   "cell_type": "code",
   "execution_count": 6,
   "id": "b1a8dde1",
   "metadata": {},
   "outputs": [
    {
     "name": "stdout",
     "output_type": "stream",
     "text": [
      "i m living in ghaziyabad\n"
     ]
    }
   ],
   "source": [
    "kanishka()  # I m calling a function which name is kanishka"
   ]
  },
  {
   "cell_type": "code",
   "execution_count": 7,
   "id": "b7414854",
   "metadata": {},
   "outputs": [],
   "source": [
    "def add(a,b):\n",
    "    print(a+b)"
   ]
  },
  {
   "cell_type": "code",
   "execution_count": 8,
   "id": "3b651b92",
   "metadata": {},
   "outputs": [
    {
     "name": "stdout",
     "output_type": "stream",
     "text": [
      "230.6\n"
     ]
    }
   ],
   "source": [
    "add(200,30.6)"
   ]
  },
  {
   "cell_type": "code",
   "execution_count": 9,
   "id": "4df2c84c",
   "metadata": {},
   "outputs": [
    {
     "name": "stdout",
     "output_type": "stream",
     "text": [
      "1213\n"
     ]
    }
   ],
   "source": [
    "add('12','13')  # they are strings"
   ]
  },
  {
   "cell_type": "code",
   "execution_count": 10,
   "id": "6a86b01c",
   "metadata": {},
   "outputs": [
    {
     "name": "stdout",
     "output_type": "stream",
     "text": [
      "riyajay\n"
     ]
    }
   ],
   "source": [
    "add('riya','jay')"
   ]
  },
  {
   "cell_type": "code",
   "execution_count": 21,
   "id": "a48dd807",
   "metadata": {},
   "outputs": [],
   "source": [
    "# Find the even and odd numbers from 1 to 20 with the help of function:\n",
    "def even_odd(c,d):\n",
    "    for i in range(c,d):\n",
    "        if i%2 == 0:\n",
    "            print(i,'even')\n",
    "        else:\n",
    "             print(i,'odd')"
   ]
  },
  {
   "cell_type": "code",
   "execution_count": 22,
   "id": "261772de",
   "metadata": {},
   "outputs": [
    {
     "name": "stdout",
     "output_type": "stream",
     "text": [
      "1 odd\n",
      "2 even\n",
      "3 odd\n",
      "4 even\n",
      "5 odd\n",
      "6 even\n",
      "7 odd\n",
      "8 even\n",
      "9 odd\n",
      "10 even\n",
      "11 odd\n",
      "12 even\n",
      "13 odd\n",
      "14 even\n",
      "15 odd\n",
      "16 even\n",
      "17 odd\n",
      "18 even\n",
      "19 odd\n",
      "20 even\n"
     ]
    }
   ],
   "source": [
    "even_odd(1,21)"
   ]
  },
  {
   "cell_type": "code",
   "execution_count": 23,
   "id": "4ad6a187",
   "metadata": {},
   "outputs": [
    {
     "name": "stdout",
     "output_type": "stream",
     "text": [
      "121 odd\n",
      "122 even\n",
      "123 odd\n",
      "124 even\n",
      "125 odd\n",
      "126 even\n",
      "127 odd\n",
      "128 even\n",
      "129 odd\n",
      "130 even\n",
      "131 odd\n",
      "132 even\n",
      "133 odd\n",
      "134 even\n",
      "135 odd\n",
      "136 even\n",
      "137 odd\n",
      "138 even\n",
      "139 odd\n",
      "140 even\n",
      "141 odd\n",
      "142 even\n",
      "143 odd\n",
      "144 even\n",
      "145 odd\n",
      "146 even\n",
      "147 odd\n",
      "148 even\n",
      "149 odd\n",
      "150 even\n",
      "151 odd\n",
      "152 even\n",
      "153 odd\n",
      "154 even\n",
      "155 odd\n",
      "156 even\n",
      "157 odd\n",
      "158 even\n",
      "159 odd\n",
      "160 even\n",
      "161 odd\n",
      "162 even\n",
      "163 odd\n",
      "164 even\n",
      "165 odd\n",
      "166 even\n"
     ]
    }
   ],
   "source": [
    "even_odd(121,167)"
   ]
  },
  {
   "cell_type": "code",
   "execution_count": 24,
   "id": "8fe62094",
   "metadata": {},
   "outputs": [],
   "source": [
    "# check the function while passing parameters:"
   ]
  },
  {
   "cell_type": "code",
   "execution_count": 34,
   "id": "57172ce8",
   "metadata": {},
   "outputs": [],
   "source": [
    "def palindrome(number):\n",
    "    temp = number\n",
    "    count = 0\n",
    "    while number > 0:\n",
    "        res= number%10\n",
    "        count = (count*10)+res\n",
    "        number = number//10\n",
    "    if temp == count:\n",
    "         print(count,'palindrome')\n",
    "    else:\n",
    "        print(count,'not palindrome')"
   ]
  },
  {
   "cell_type": "code",
   "execution_count": 35,
   "id": "669a7ec9",
   "metadata": {},
   "outputs": [
    {
     "name": "stdout",
     "output_type": "stream",
     "text": [
      "121 palindrome\n"
     ]
    }
   ],
   "source": [
    "palindrome(121)"
   ]
  },
  {
   "cell_type": "code",
   "execution_count": 36,
   "id": "36ae4fb6",
   "metadata": {},
   "outputs": [
    {
     "name": "stdout",
     "output_type": "stream",
     "text": [
      "541 not palindrome\n"
     ]
    }
   ],
   "source": [
    "palindrome(145)"
   ]
  },
  {
   "cell_type": "code",
   "execution_count": 37,
   "id": "f587faa7",
   "metadata": {},
   "outputs": [],
   "source": [
    "def marks(ph=100,ch=80,co=90):\n",
    "    print(ph,ch,co)"
   ]
  },
  {
   "cell_type": "code",
   "execution_count": 38,
   "id": "df5416d8",
   "metadata": {},
   "outputs": [
    {
     "name": "stdout",
     "output_type": "stream",
     "text": [
      "40 50 30\n"
     ]
    }
   ],
   "source": [
    "ph=40\n",
    "ch=50\n",
    "co=30\n",
    "marks(ph,ch,co)"
   ]
  },
  {
   "cell_type": "markdown",
   "id": "7eff3e9d",
   "metadata": {},
   "source": [
    "## Return keyword:\n",
    "  - to let a function return a value,use the return statement."
   ]
  },
  {
   "cell_type": "code",
   "execution_count": 5,
   "id": "374431cd",
   "metadata": {},
   "outputs": [],
   "source": [
    "def square(number):\n",
    "    return number*number"
   ]
  },
  {
   "cell_type": "code",
   "execution_count": 40,
   "id": "8cce75e1",
   "metadata": {},
   "outputs": [
    {
     "data": {
      "text/plain": [
       "25"
      ]
     },
     "execution_count": 40,
     "metadata": {},
     "output_type": "execute_result"
    }
   ],
   "source": [
    "square(5)"
   ]
  },
  {
   "cell_type": "code",
   "execution_count": null,
   "id": "55a91392",
   "metadata": {},
   "outputs": [],
   "source": [
    "# The difference is if we use 'print' we can use the value generated by function futher.\n",
    "# But with return i can use the value(result)."
   ]
  },
  {
   "cell_type": "code",
   "execution_count": 7,
   "id": "81a1154f",
   "metadata": {},
   "outputs": [],
   "source": [
    "sol = square(2)"
   ]
  },
  {
   "cell_type": "code",
   "execution_count": 8,
   "id": "1a03a852",
   "metadata": {},
   "outputs": [
    {
     "name": "stdout",
     "output_type": "stream",
     "text": [
      "4\n"
     ]
    }
   ],
   "source": [
    "print(sol)"
   ]
  },
  {
   "cell_type": "code",
   "execution_count": 9,
   "id": "ab59696d",
   "metadata": {},
   "outputs": [
    {
     "name": "stdout",
     "output_type": "stream",
     "text": [
      "even\n"
     ]
    }
   ],
   "source": [
    "if sol%2==0:\n",
    "    print('even')\n",
    "else:\n",
    "    print('odd')"
   ]
  },
  {
   "cell_type": "code",
   "execution_count": 12,
   "id": "55b25ea8",
   "metadata": {},
   "outputs": [],
   "source": [
    "#return with multiple parameters:\n",
    "#square and add:\n",
    "def square(a,b):\n",
    "    a1 = a*a\n",
    "    b1 = b*b\n",
    "    print(a1)\n",
    "    print(b1)   # without return we would give different print"
   ]
  },
  {
   "cell_type": "code",
   "execution_count": 13,
   "id": "0a098c19",
   "metadata": {},
   "outputs": [
    {
     "name": "stdout",
     "output_type": "stream",
     "text": [
      "100\n",
      "400\n"
     ]
    }
   ],
   "source": [
    "square(10,20)"
   ]
  },
  {
   "cell_type": "code",
   "execution_count": 14,
   "id": "c4dfd42c",
   "metadata": {},
   "outputs": [],
   "source": [
    "def square(a,b):\n",
    "    a1 = a*a\n",
    "    b1 = b*b\n",
    "    return a1,b1"
   ]
  },
  {
   "cell_type": "code",
   "execution_count": 16,
   "id": "168ae954",
   "metadata": {},
   "outputs": [],
   "source": [
    "first,second = square(40,50)"
   ]
  },
  {
   "cell_type": "code",
   "execution_count": 17,
   "id": "1510ae9c",
   "metadata": {},
   "outputs": [
    {
     "data": {
      "text/plain": [
       "1600"
      ]
     },
     "execution_count": 17,
     "metadata": {},
     "output_type": "execute_result"
    }
   ],
   "source": [
    "first"
   ]
  },
  {
   "cell_type": "code",
   "execution_count": 18,
   "id": "b116d114",
   "metadata": {},
   "outputs": [
    {
     "data": {
      "text/plain": [
       "2500"
      ]
     },
     "execution_count": 18,
     "metadata": {},
     "output_type": "execute_result"
    }
   ],
   "source": [
    "second"
   ]
  },
  {
   "cell_type": "code",
   "execution_count": 19,
   "id": "092b666c",
   "metadata": {},
   "outputs": [
    {
     "name": "stdout",
     "output_type": "stream",
     "text": [
      "4100\n"
     ]
    }
   ],
   "source": [
    "print(first+second)"
   ]
  },
  {
   "cell_type": "code",
   "execution_count": 26,
   "id": "1dfb53fa",
   "metadata": {},
   "outputs": [],
   "source": [
    "add = first+second"
   ]
  },
  {
   "cell_type": "code",
   "execution_count": 27,
   "id": "bc4b958b",
   "metadata": {},
   "outputs": [
    {
     "name": "stdout",
     "output_type": "stream",
     "text": [
      "4100\n"
     ]
    }
   ],
   "source": [
    "print(add)"
   ]
  },
  {
   "cell_type": "code",
   "execution_count": 23,
   "id": "65e1e970",
   "metadata": {},
   "outputs": [],
   "source": [
    "div = first//second"
   ]
  },
  {
   "cell_type": "code",
   "execution_count": 24,
   "id": "b39d2d59",
   "metadata": {},
   "outputs": [
    {
     "name": "stdout",
     "output_type": "stream",
     "text": [
      "0\n"
     ]
    }
   ],
   "source": [
    "print(div)"
   ]
  },
  {
   "cell_type": "code",
   "execution_count": 130,
   "id": "7f1d73a8",
   "metadata": {},
   "outputs": [],
   "source": [
    "#will take a list of values and will find out values divisible by 2 and 3 and later add them?\n",
    "a = [1,2,3,14,15,21,6,10]\n",
    "def use_case(a):\n",
    "    count_1 =0\n",
    "    count_2 =0\n",
    "    for i in a:\n",
    "        if i%2==0:\n",
    "            count_1 =count_1+i\n",
    "            \n",
    "            \n",
    "    for j in a:\n",
    "        if j%3==0:\n",
    "            count_2 =count_2+j\n",
    "        print(count_1)\n",
    "        print(count_2)"
   ]
  },
  {
   "cell_type": "code",
   "execution_count": 132,
   "id": "13d2f5ae",
   "metadata": {},
   "outputs": [
    {
     "name": "stdout",
     "output_type": "stream",
     "text": [
      "32\n",
      "0\n",
      "32\n",
      "0\n",
      "32\n",
      "3\n",
      "32\n",
      "3\n",
      "32\n",
      "18\n",
      "32\n",
      "39\n",
      "32\n",
      "45\n",
      "32\n",
      "45\n"
     ]
    }
   ],
   "source": [
    "a = [1,2,3,14,15,21,6,10]\n",
    "use_case(a)"
   ]
  },
  {
   "cell_type": "code",
   "execution_count": 39,
   "id": "075fd0e1",
   "metadata": {},
   "outputs": [
    {
     "data": {
      "text/plain": [
       "32"
      ]
     },
     "execution_count": 39,
     "metadata": {},
     "output_type": "execute_result"
    }
   ],
   "source": [
    "2+14+6+10"
   ]
  },
  {
   "cell_type": "code",
   "execution_count": 46,
   "id": "2e77b0f6",
   "metadata": {},
   "outputs": [
    {
     "data": {
      "text/plain": [
       "45"
      ]
     },
     "execution_count": 46,
     "metadata": {},
     "output_type": "execute_result"
    }
   ],
   "source": [
    "3+15+21+6"
   ]
  },
  {
   "cell_type": "code",
   "execution_count": 127,
   "id": "60c47ac7",
   "metadata": {},
   "outputs": [],
   "source": [
    "\n",
    "def use_case(a):\n",
    "    count_1 =0\n",
    "    count_2 =0\n",
    "    for i in a:\n",
    "        if i%2==0:\n",
    "            count_1 =count_1+i\n",
    "            \n",
    "            \n",
    "    for j in a:\n",
    "        if j % 3 == 0:\n",
    "            count_2 =count_2 + j\n",
    "            return count_1, count_2"
   ]
  },
  {
   "cell_type": "code",
   "execution_count": 128,
   "id": "556e6413",
   "metadata": {},
   "outputs": [],
   "source": [
    "a = [2,6,3,15,14,21,20]\n",
    "a1,b1 = use_case(a)"
   ]
  },
  {
   "cell_type": "code",
   "execution_count": 129,
   "id": "e882bf29",
   "metadata": {},
   "outputs": [
    {
     "data": {
      "text/plain": [
       "(42, 6)"
      ]
     },
     "execution_count": 129,
     "metadata": {},
     "output_type": "execute_result"
    }
   ],
   "source": [
    "a1,b1"
   ]
  },
  {
   "cell_type": "code",
   "execution_count": 133,
   "id": "58e439bd",
   "metadata": {},
   "outputs": [],
   "source": [
    "# find the count of each character in ur name using function and output should be in 'dictionary'?\n",
    "# input --->'kanishka'\n",
    "# output ---> {'k':2,'a':2,'n':1,'i':1,'s':1,'h':1}"
   ]
  },
  {
   "cell_type": "code",
   "execution_count": 145,
   "id": "4b189b65",
   "metadata": {},
   "outputs": [],
   "source": [
    "def name(a):\n",
    "    print(a)\n",
    "    "
   ]
  },
  {
   "cell_type": "code",
   "execution_count": 146,
   "id": "2dec2afe",
   "metadata": {},
   "outputs": [
    {
     "name": "stdout",
     "output_type": "stream",
     "text": [
      "kanishka\n"
     ]
    }
   ],
   "source": [
    "name('kanishka')"
   ]
  },
  {
   "cell_type": "code",
   "execution_count": 28,
   "id": "4c6ab222",
   "metadata": {},
   "outputs": [
    {
     "name": "stdout",
     "output_type": "stream",
     "text": [
      "{'k': 12}\n"
     ]
    }
   ],
   "source": [
    "a = {}\n",
    "a['k'] = 12\n",
    "print(a)"
   ]
  },
  {
   "cell_type": "code",
   "execution_count": 39,
   "id": "302c7c20",
   "metadata": {},
   "outputs": [],
   "source": [
    "def exercise(a):\n",
    "    empty_dict = {}\n",
    "    for i in a:\n",
    "        if i in empty_dict.keys():\n",
    "            empty_dict[i]=empty_dict[i]+1\n",
    "        else:\n",
    "             empty_dict[i]=1\n",
    "    return empty_dict"
   ]
  },
  {
   "cell_type": "code",
   "execution_count": 41,
   "id": "adb7ace2",
   "metadata": {},
   "outputs": [
    {
     "name": "stdout",
     "output_type": "stream",
     "text": [
      "{'k': 2, 'a': 3, 'n': 1, 'i': 2, 's': 1, 'h': 1, ' ': 1, 'm': 1, 't': 2, 'l': 1}\n"
     ]
    }
   ],
   "source": [
    "a = 'kanishka mittal'\n",
    "result = exercise(a)\n",
    "print(result)"
   ]
  },
  {
   "cell_type": "markdown",
   "id": "27adfd7e",
   "metadata": {},
   "source": [
    "## Practice program"
   ]
  },
  {
   "cell_type": "code",
   "execution_count": 24,
   "id": "1ef9d168",
   "metadata": {},
   "outputs": [],
   "source": [
    "a = [10,12,8,15,9,21,14]\n",
    "def eve_odd(a):\n",
    "    count_1 = 0\n",
    "    count_2 = 0\n",
    "    for i in a:\n",
    "        if i%2==0:\n",
    "            count_1 = count_1+i\n",
    "    for j in a:\n",
    "        if j%3==0:\n",
    "            count_2 = count_2+j\n",
    "    return(count_1,count_2)"
   ]
  },
  {
   "cell_type": "code",
   "execution_count": 25,
   "id": "9caa84c6",
   "metadata": {},
   "outputs": [
    {
     "data": {
      "text/plain": [
       "(44, 57)"
      ]
     },
     "execution_count": 25,
     "metadata": {},
     "output_type": "execute_result"
    }
   ],
   "source": [
    "a = [10,12,8,15,9,21,14]\n",
    "eve_odd(a)"
   ]
  },
  {
   "cell_type": "code",
   "execution_count": 26,
   "id": "121c7206",
   "metadata": {},
   "outputs": [
    {
     "name": "stdout",
     "output_type": "stream",
     "text": [
      "44 57\n"
     ]
    }
   ],
   "source": [
    "sol_1,sol_2 = eve_odd(a)\n",
    "print(sol_1,sol_2)"
   ]
  },
  {
   "cell_type": "code",
   "execution_count": 27,
   "id": "57a100eb",
   "metadata": {},
   "outputs": [
    {
     "name": "stdout",
     "output_type": "stream",
     "text": [
      "101\n"
     ]
    }
   ],
   "source": [
    "print(sol_1+sol_2)"
   ]
  },
  {
   "cell_type": "code",
   "execution_count": 47,
   "id": "79f0a783",
   "metadata": {},
   "outputs": [],
   "source": [
    "# 'not' 'and' 'or' 'in' :keywords"
   ]
  },
  {
   "cell_type": "code",
   "execution_count": 48,
   "id": "2220e213",
   "metadata": {},
   "outputs": [
    {
     "name": "stdout",
     "output_type": "stream",
     "text": [
      "False\n"
     ]
    }
   ],
   "source": [
    "# not\n",
    "a = 'jiva'\n",
    "print('i' not in a)"
   ]
  },
  {
   "cell_type": "code",
   "execution_count": 49,
   "id": "2643a3fb",
   "metadata": {},
   "outputs": [
    {
     "name": "stdout",
     "output_type": "stream",
     "text": [
      "True\n"
     ]
    }
   ],
   "source": [
    "print('h' not in a)"
   ]
  },
  {
   "cell_type": "code",
   "execution_count": 50,
   "id": "1039a5fc",
   "metadata": {},
   "outputs": [],
   "source": [
    "# 'and' : both condition should be true.\n",
    "# 'or' :  only one condition true.\n",
    "# find the no. which are divisble by 2 and 3?\n",
    "def example(a):\n",
    "    for i in a:\n",
    "        if i%2==0 and i%3==0:\n",
    "            print(i)\n",
    "            "
   ]
  },
  {
   "cell_type": "code",
   "execution_count": 51,
   "id": "c4171daf",
   "metadata": {},
   "outputs": [
    {
     "name": "stdout",
     "output_type": "stream",
     "text": [
      "6\n",
      "12\n"
     ]
    }
   ],
   "source": [
    "a = [10,2,6,12,3,9]\n",
    "example(a)"
   ]
  },
  {
   "cell_type": "code",
   "execution_count": 52,
   "id": "a0b2987d",
   "metadata": {},
   "outputs": [],
   "source": [
    "# or :\n",
    "def example_2(a):\n",
    "    for i in a:\n",
    "        if i%2==0 or i%3==0:\n",
    "            print(i)"
   ]
  },
  {
   "cell_type": "code",
   "execution_count": 53,
   "id": "fd4fc064",
   "metadata": {},
   "outputs": [
    {
     "name": "stdout",
     "output_type": "stream",
     "text": [
      "10\n",
      "2\n",
      "6\n",
      "12\n",
      "3\n",
      "9\n"
     ]
    }
   ],
   "source": [
    "a = [10,2,6,12,3,9]\n",
    "example_2(a)"
   ]
  },
  {
   "cell_type": "markdown",
   "id": "f2bd713b",
   "metadata": {},
   "source": [
    "## Lambda function"
   ]
  },
  {
   "cell_type": "code",
   "execution_count": 54,
   "id": "b76140da",
   "metadata": {},
   "outputs": [
    {
     "ename": "SyntaxError",
     "evalue": "invalid syntax (3941638576.py, line 5)",
     "output_type": "error",
     "traceback": [
      "\u001b[1;36m  Cell \u001b[1;32mIn[54], line 5\u001b[1;36m\u001b[0m\n\u001b[1;33m    -line which is very difficult to understand.\u001b[0m\n\u001b[1;37m          ^\u001b[0m\n\u001b[1;31mSyntaxError\u001b[0m\u001b[1;31m:\u001b[0m invalid syntax\n"
     ]
    }
   ],
   "source": [
    "#for normal function we need to use function name\n",
    "#but lambda function has no function name\n",
    "# lambda function is anonymous function ---anonymous(there will be no function name)\n",
    "#both function and lambda function is same but lambda function has no function name and we need to write the code in single-\n",
    "-line which is very difficult to understand.\n",
    "# official documentation:https://docs.python.org/3/reference/expressions.html"
   ]
  },
  {
   "cell_type": "markdown",
   "id": "baa925ea",
   "metadata": {},
   "source": [
    "## Syntax for lambda function:\n",
    "---[lambda arguments :expression]"
   ]
  },
  {
   "cell_type": "code",
   "execution_count": 55,
   "id": "ba999dda",
   "metadata": {},
   "outputs": [
    {
     "data": {
      "text/plain": [
       "35"
      ]
     },
     "execution_count": 55,
     "metadata": {},
     "output_type": "execute_result"
    }
   ],
   "source": [
    "sol = lambda x,y:x+y\n",
    "a = 12\n",
    "b = 23\n",
    "sol(a,b)"
   ]
  },
  {
   "cell_type": "code",
   "execution_count": 60,
   "id": "50080b2b",
   "metadata": {},
   "outputs": [
    {
     "data": {
      "text/plain": [
       "32"
      ]
     },
     "execution_count": 60,
     "metadata": {},
     "output_type": "execute_result"
    }
   ],
   "source": [
    "sol= lambda x,y:pow(x,y)\n",
    "a = 2\n",
    "b = 5\n",
    "sol(a,b)"
   ]
  },
  {
   "cell_type": "code",
   "execution_count": null,
   "id": "6c8ecd88",
   "metadata": {},
   "outputs": [],
   "source": [
    "# For loop loosing lambda:\n"
   ]
  },
  {
   "cell_type": "code",
   "execution_count": 2,
   "id": "a2ca88b4",
   "metadata": {},
   "outputs": [
    {
     "name": "stdout",
     "output_type": "stream",
     "text": [
      "<function <lambda> at 0x0000023274A581F0>\n",
      "36\n"
     ]
    }
   ],
   "source": [
    "minimum = lambda x, y:x if(x>y) else y\n",
    "a = 25\n",
    "b = 36\n",
    "print(minimum)\n",
    "print(minimum(a,b))"
   ]
  },
  {
   "cell_type": "code",
   "execution_count": 3,
   "id": "ff041c33",
   "metadata": {},
   "outputs": [],
   "source": [
    "# write table of 2 using function and lambda function"
   ]
  },
  {
   "cell_type": "code",
   "execution_count": 21,
   "id": "4aba532e",
   "metadata": {},
   "outputs": [],
   "source": [
    "# functions:\n",
    "def table(a):\n",
    "    for i in range(1,11):\n",
    "        print(a,'*',i,'=',a*i)"
   ]
  },
  {
   "cell_type": "code",
   "execution_count": 22,
   "id": "cdaa2e21",
   "metadata": {},
   "outputs": [
    {
     "name": "stdout",
     "output_type": "stream",
     "text": [
      "5 * 1 = 5\n",
      "5 * 2 = 10\n",
      "5 * 3 = 15\n",
      "5 * 4 = 20\n",
      "5 * 5 = 25\n",
      "5 * 6 = 30\n",
      "5 * 7 = 35\n",
      "5 * 8 = 40\n",
      "5 * 9 = 45\n",
      "5 * 10 = 50\n"
     ]
    }
   ],
   "source": [
    "table(5)"
   ]
  },
  {
   "cell_type": "code",
   "execution_count": 23,
   "id": "c65e671c",
   "metadata": {},
   "outputs": [
    {
     "name": "stdout",
     "output_type": "stream",
     "text": [
      "3 * 1 = 3\n",
      "3 * 2 = 6\n",
      "3 * 3 = 9\n",
      "3 * 4 = 12\n",
      "3 * 5 = 15\n",
      "3 * 6 = 18\n",
      "3 * 7 = 21\n",
      "3 * 8 = 24\n",
      "3 * 9 = 27\n",
      "3 * 10 = 30\n"
     ]
    }
   ],
   "source": [
    "# same but use lambda function:\n",
    "sol = lambda x,y:x*y\n",
    "number = 3\n",
    "for i in range(1,11):\n",
    "    print(number,'*',i,'=',number*i)"
   ]
  },
  {
   "cell_type": "code",
   "execution_count": null,
   "id": "813b2ce6",
   "metadata": {},
   "outputs": [],
   "source": []
  }
 ],
 "metadata": {
  "kernelspec": {
   "display_name": "Python 3 (ipykernel)",
   "language": "python",
   "name": "python3"
  },
  "language_info": {
   "codemirror_mode": {
    "name": "ipython",
    "version": 3
   },
   "file_extension": ".py",
   "mimetype": "text/x-python",
   "name": "python",
   "nbconvert_exporter": "python",
   "pygments_lexer": "ipython3",
   "version": "3.12.4"
  }
 },
 "nbformat": 4,
 "nbformat_minor": 5
}
