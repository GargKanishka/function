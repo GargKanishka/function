{
 "cells": [
  {
   "cell_type": "markdown",
   "id": "de8d090f-9d1f-49ed-b528-a4ad54a0c25c",
   "metadata": {},
   "source": [
    "## Array\n",
    "Array is a container that holds multiple values of same type."
   ]
  },
  {
   "cell_type": "code",
   "execution_count": 3,
   "id": "66fa0ab2-c371-401d-9586-32e878971906",
   "metadata": {},
   "outputs": [],
   "source": [
    "from array import *"
   ]
  },
  {
   "cell_type": "code",
   "execution_count": 5,
   "id": "c01fe350-8377-492f-b9cc-85b5f8fce845",
   "metadata": {},
   "outputs": [
    {
     "name": "stdout",
     "output_type": "stream",
     "text": [
      "array('i', [1, 3, 5, 6])\n"
     ]
    }
   ],
   "source": [
    "arr = array('i',[1,3,5,6])\n",
    "print(arr)"
   ]
  },
  {
   "cell_type": "code",
   "execution_count": 7,
   "id": "c8daadb2-c2ee-4e3d-b4f8-1b081d3e44d0",
   "metadata": {},
   "outputs": [
    {
     "name": "stdout",
     "output_type": "stream",
     "text": [
      "('j', [45, 56, 23])\n"
     ]
    }
   ],
   "source": [
    "a = ('j',[45,56,23])\n",
    "print(a)"
   ]
  },
  {
   "cell_type": "code",
   "execution_count": 9,
   "id": "d3b2fe53-5247-4dd8-8a04-ed6adb7426ae",
   "metadata": {},
   "outputs": [
    {
     "name": "stdout",
     "output_type": "stream",
     "text": [
      "array('H', [1, 3, 5, 6])\n"
     ]
    }
   ],
   "source": [
    "arr = array('H',[1,3,5,6])\n",
    "print(arr)"
   ]
  },
  {
   "cell_type": "code",
   "execution_count": 11,
   "id": "79765eb7-e13e-4714-9498-9d89327589d5",
   "metadata": {},
   "outputs": [
    {
     "ename": "OverflowError",
     "evalue": "unsigned short is less than minimum",
     "output_type": "error",
     "traceback": [
      "\u001b[1;31m---------------------------------------------------------------------------\u001b[0m",
      "\u001b[1;31mOverflowError\u001b[0m                             Traceback (most recent call last)",
      "Cell \u001b[1;32mIn[11], line 1\u001b[0m\n\u001b[1;32m----> 1\u001b[0m arr \u001b[38;5;241m=\u001b[39m array(\u001b[38;5;124m'\u001b[39m\u001b[38;5;124mH\u001b[39m\u001b[38;5;124m'\u001b[39m,[\u001b[38;5;241m1\u001b[39m,\u001b[38;5;241m-\u001b[39m\u001b[38;5;241m3\u001b[39m,\u001b[38;5;241m5\u001b[39m,\u001b[38;5;241m6\u001b[39m])\n\u001b[0;32m      2\u001b[0m \u001b[38;5;28mprint\u001b[39m(arr)\n",
      "\u001b[1;31mOverflowError\u001b[0m: unsigned short is less than minimum"
     ]
    }
   ],
   "source": [
    "arr = array('H',[1,-3,5,6])\n",
    "print(arr)       # this gives error because 'h' is unsigned int with negative."
   ]
  },
  {
   "cell_type": "code",
   "execution_count": 33,
   "id": "e2a267f9-254a-4f6d-b9c2-2adef54464bf",
   "metadata": {},
   "outputs": [
    {
     "name": "stdout",
     "output_type": "stream",
     "text": [
      "array('i', [1, 3, 5, 6])\n"
     ]
    }
   ],
   "source": [
    "arr = array('i',[1,3,5,6])\n",
    "print(arr)"
   ]
  },
  {
   "cell_type": "code",
   "execution_count": 15,
   "id": "22af68a4-ee79-411c-9851-08043e5a51ee",
   "metadata": {},
   "outputs": [
    {
     "name": "stdout",
     "output_type": "stream",
     "text": [
      "(2562576328080, 4)\n"
     ]
    }
   ],
   "source": [
    "print(arr.buffer_info())"
   ]
  },
  {
   "cell_type": "code",
   "execution_count": 17,
   "id": "f453c42c-6467-4344-889a-599d3ee751cc",
   "metadata": {},
   "outputs": [
    {
     "name": "stdout",
     "output_type": "stream",
     "text": [
      "5\n"
     ]
    }
   ],
   "source": [
    "print(arr[2])"
   ]
  },
  {
   "cell_type": "code",
   "execution_count": 19,
   "id": "fb3c6205-9d8a-4643-9330-30c136dc8cf3",
   "metadata": {},
   "outputs": [
    {
     "name": "stdout",
     "output_type": "stream",
     "text": [
      "1\n",
      "3\n",
      "5\n",
      "6\n"
     ]
    }
   ],
   "source": [
    "for i in arr:\n",
    "    print(i)"
   ]
  },
  {
   "cell_type": "code",
   "execution_count": 25,
   "id": "e80601cc-5bcc-43ab-963f-3ac39c21c5e6",
   "metadata": {},
   "outputs": [
    {
     "name": "stdout",
     "output_type": "stream",
     "text": [
      "0 1\n",
      "1 3\n",
      "2 5\n",
      "3 6\n"
     ]
    }
   ],
   "source": [
    "for a in range(4):\n",
    "    print(a,arr[a])"
   ]
  },
  {
   "cell_type": "code",
   "execution_count": 27,
   "id": "09d448bf-647c-4638-984a-a1874f552955",
   "metadata": {},
   "outputs": [
    {
     "name": "stdout",
     "output_type": "stream",
     "text": [
      "1 3\n",
      "2 5\n",
      "3 6\n"
     ]
    }
   ],
   "source": [
    "for a in range(1,4):\n",
    "    print(a,arr[a])"
   ]
  },
  {
   "cell_type": "code",
   "execution_count": 35,
   "id": "7f844891-f0e9-478c-ade9-8fd5ad1f897a",
   "metadata": {},
   "outputs": [
    {
     "name": "stdout",
     "output_type": "stream",
     "text": [
      "array('i', [6, 5, 3, 1])\n"
     ]
    }
   ],
   "source": [
    "arr.reverse()\n",
    "print(arr)"
   ]
  },
  {
   "cell_type": "code",
   "execution_count": 37,
   "id": "aa006e2b-c006-451a-84e1-1702865eeb54",
   "metadata": {},
   "outputs": [
    {
     "name": "stdout",
     "output_type": "stream",
     "text": [
      "array('i', [6, 5, 3, 1, 15])\n"
     ]
    }
   ],
   "source": [
    "arr.append(15)\n",
    "print(arr)"
   ]
  },
  {
   "cell_type": "code",
   "execution_count": 39,
   "id": "60da9ec4-e799-4f6e-b66e-e422a41287b6",
   "metadata": {},
   "outputs": [
    {
     "name": "stdout",
     "output_type": "stream",
     "text": [
      "array('i', [6, 5, 1, 15])\n"
     ]
    }
   ],
   "source": [
    "arr.remove(3)\n",
    "print(arr)"
   ]
  },
  {
   "cell_type": "code",
   "execution_count": 41,
   "id": "ea47a271-b564-4fab-bb1f-b1c7a13bb133",
   "metadata": {},
   "outputs": [
    {
     "name": "stdout",
     "output_type": "stream",
     "text": [
      "1\n"
     ]
    }
   ],
   "source": [
    "print(arr.index(5))"
   ]
  },
  {
   "cell_type": "code",
   "execution_count": 59,
   "id": "611a8338-a54e-4519-8a6a-71bb927d4d48",
   "metadata": {},
   "outputs": [
    {
     "name": "stdin",
     "output_type": "stream",
     "text": [
      "enter the size of array 2\n"
     ]
    },
    {
     "name": "stdout",
     "output_type": "stream",
     "text": [
      "enter 2 elements\n"
     ]
    },
    {
     "name": "stdin",
     "output_type": "stream",
     "text": [
      " 14\n",
      " 15\n"
     ]
    },
    {
     "name": "stdout",
     "output_type": "stream",
     "text": [
      "array('i', [14, 15])\n"
     ]
    }
   ],
   "source": [
    "from array import *\n",
    "arr = array('i',[])\n",
    "x = int(input('enter the size of array'))\n",
    "print('enter %d elements'%x)\n",
    "for j in range(x):\n",
    "    n= int(input())\n",
    "    arr.append(n)\n",
    "print(arr)"
   ]
  },
  {
   "cell_type": "markdown",
   "id": "3e5a9f7c-7268-4a25-ac6e-faa6717caaad",
   "metadata": {},
   "source": [
    "## Function\n",
    " A function is a set of code that performs some task."
   ]
  },
  {
   "cell_type": "markdown",
   "id": "e0a8ce03-3b49-4b60-8648-9cbdcd2b5fc6",
   "metadata": {},
   "source": [
    "#### Syntax: def function_name:\n",
    "               statement(s)"
   ]
  },
  {
   "cell_type": "code",
   "execution_count": 63,
   "id": "e319a011-d400-4b29-ba04-48ea191b3753",
   "metadata": {},
   "outputs": [],
   "source": [
    "def welcome():\n",
    "    print('good morning')"
   ]
  },
  {
   "cell_type": "code",
   "execution_count": 65,
   "id": "a2c3b4bf-4bbd-40be-b596-d6702c23d9aa",
   "metadata": {},
   "outputs": [
    {
     "name": "stdout",
     "output_type": "stream",
     "text": [
      "good morning\n"
     ]
    }
   ],
   "source": [
    "welcome()"
   ]
  },
  {
   "cell_type": "code",
   "execution_count": 79,
   "id": "de1faa2f-dd83-466b-85c9-eedb32c9e071",
   "metadata": {},
   "outputs": [],
   "source": [
    "def even():\n",
    "    for a in range(1,20):\n",
    "        if a % 2==0:\n",
    "            print(a,'even')\n",
    "        else:\n",
    "            print(a,'odd')"
   ]
  },
  {
   "cell_type": "code",
   "execution_count": 83,
   "id": "10f81f97-dafe-48e1-b838-18b2f4d1baad",
   "metadata": {},
   "outputs": [
    {
     "name": "stdout",
     "output_type": "stream",
     "text": [
      "1 odd\n",
      "2 even\n",
      "3 odd\n",
      "4 even\n",
      "5 odd\n",
      "6 even\n",
      "7 odd\n",
      "8 even\n",
      "9 odd\n",
      "10 even\n",
      "11 odd\n",
      "12 even\n",
      "13 odd\n",
      "14 even\n",
      "15 odd\n",
      "16 even\n",
      "17 odd\n",
      "18 even\n",
      "19 odd\n"
     ]
    }
   ],
   "source": [
    "even()"
   ]
  },
  {
   "cell_type": "code",
   "execution_count": 87,
   "id": "9e586039-093a-487a-bb18-be21db2ac047",
   "metadata": {},
   "outputs": [],
   "source": [
    "def add(a,b):\n",
    "    total = a+b\n",
    "    print(total)"
   ]
  },
  {
   "cell_type": "code",
   "execution_count": 89,
   "id": "f52d737c-3b08-4f65-910a-1f9a21360c4f",
   "metadata": {},
   "outputs": [
    {
     "name": "stdout",
     "output_type": "stream",
     "text": [
      "30\n"
     ]
    }
   ],
   "source": [
    "add(10,20)"
   ]
  },
  {
   "cell_type": "code",
   "execution_count": 95,
   "id": "3e6e9a43-906a-4422-919e-545e9e94898d",
   "metadata": {},
   "outputs": [],
   "source": [
    "def even(a):\n",
    "    for i in range(a):\n",
    "        if i % 2==0:\n",
    "            print(i,'even')\n",
    "        else:\n",
    "            print(i,'odd')"
   ]
  },
  {
   "cell_type": "code",
   "execution_count": 99,
   "id": "0677d759-170c-46d1-bac0-e791019abf21",
   "metadata": {},
   "outputs": [
    {
     "name": "stdout",
     "output_type": "stream",
     "text": [
      "0 even\n",
      "1 odd\n",
      "2 even\n",
      "3 odd\n",
      "4 even\n",
      "5 odd\n",
      "6 even\n",
      "7 odd\n",
      "8 even\n",
      "9 odd\n"
     ]
    }
   ],
   "source": [
    "even(10)"
   ]
  },
  {
   "cell_type": "code",
   "execution_count": 105,
   "id": "5ecfe5be-99e3-4831-b90d-78d0bb0e8142",
   "metadata": {},
   "outputs": [],
   "source": [
    "def add(a):\n",
    "    print(id(a))\n",
    "    total =0\n",
    "    for i in a:\n",
    "        total = total+i\n",
    "        print('the sum is',total)\n",
    "        "
   ]
  },
  {
   "cell_type": "code",
   "execution_count": 107,
   "id": "dfedeaec-6f03-480a-b53d-79ac5c2d97aa",
   "metadata": {},
   "outputs": [
    {
     "name": "stdout",
     "output_type": "stream",
     "text": [
      "2562632982208\n",
      "the sum is 10\n",
      "the sum is 30\n",
      "the sum is 60\n",
      "the sum is 100\n",
      "None\n"
     ]
    }
   ],
   "source": [
    "a = [10,20,30,40]\n",
    "print(add(a))"
   ]
  },
  {
   "cell_type": "code",
   "execution_count": 137,
   "id": "0247c674-be13-4243-9417-9276b31b376b",
   "metadata": {},
   "outputs": [],
   "source": [
    "def add(a,b):\n",
    "    total = a+b\n",
    "    return total"
   ]
  },
  {
   "cell_type": "code",
   "execution_count": 139,
   "id": "b0a5a194-7094-4ea5-9bd3-8904197f3ee7",
   "metadata": {},
   "outputs": [
    {
     "name": "stdout",
     "output_type": "stream",
     "text": [
      "155\n"
     ]
    }
   ],
   "source": [
    "result = add(10,145)\n",
    "print(result)\n"
   ]
  },
  {
   "cell_type": "code",
   "execution_count": null,
   "id": "8bf0a9f5-3178-4ea6-922f-73ca344e36a0",
   "metadata": {},
   "outputs": [],
   "source": []
  }
 ],
 "metadata": {
  "kernelspec": {
   "display_name": "Python 3 (ipykernel)",
   "language": "python",
   "name": "python3"
  },
  "language_info": {
   "codemirror_mode": {
    "name": "ipython",
    "version": 3
   },
   "file_extension": ".py",
   "mimetype": "text/x-python",
   "name": "python",
   "nbconvert_exporter": "python",
   "pygments_lexer": "ipython3",
   "version": "3.12.4"
  }
 },
 "nbformat": 4,
 "nbformat_minor": 5
}
